{
 "cells": [
  {
   "cell_type": "code",
   "execution_count": 1,
   "metadata": {},
   "outputs": [],
   "source": [
    "import numpy as np\n",
    "import matplotlib.pyplot as plt\n",
    "from iminuit import Minuit\n",
    "from iminuit import cost\n",
    "from scipy import stats\n",
    "import sympy as sp \n",
    "from sympy import symbols, diff, lambdify, solve "
   ]
  },
  {
   "cell_type": "code",
   "execution_count": 2,
   "metadata": {},
   "outputs": [],
   "source": [
    "data = np.genfromtxt('test_pend2.txt')\n",
    "# x = data[:,0]\n",
    "# y = data[:,1]\n",
    "# yerr = data[:,2]\n",
    "\n",
    "x = data[:,0]\n",
    "y = data[:,1]\n"
   ]
  },
  {
   "cell_type": "code",
   "execution_count": 12,
   "metadata": {},
   "outputs": [],
   "source": [
    "L,T = symbols('L T')\n",
    "\n",
    "g = L* (2*sp.pi/T)**2\n",
    "\n",
    "def error_prop(function,variables,errors):\n",
    "    total_error = 0 \n",
    "    for i in range(len(variables)):\n",
    "        total_error += (diff(function,variables[i])**2)*(errors[i]**2)\n",
    "    return sp.sqrt(total_error)\n",
    "\n",
    "\n",
    "def resid_plot(y,yfit):\n",
    "    plt.hist(y-yfit,bins=6)\n",
    "    plt.show()\n",
    "    \n",
    "def gauss_pdf(x, mu, sigma) :\n",
    "    \"\"\"Gaussian\"\"\"\n",
    "    return 1.0 / np.sqrt(2*np.pi* sigma**2) * np.exp( -0.5 * (x-mu)**2 / sigma**2)\n",
    "\n",
    "\n",
    "def fit_funcT(x,a,b):\n",
    "    return a*x+b\n",
    "def fit_funcg(x,time):\n",
    "    return x*(2*np.pi/time)**2\n",
    "\n",
    "# def linearfit(x,y,function,guessederror,params):\n",
    "#     cfit = cost.LeastSquares(x, y, yerr=guessederror, model=function)\n",
    "#     m = Minuit(cfit, **params)\n",
    "#     fit_params = m.migrad().parameters \n",
    "    "
   ]
  },
  {
   "cell_type": "code",
   "execution_count": 13,
   "metadata": {},
   "outputs": [
    {
     "name": "stdout",
     "output_type": "stream",
     "text": [
      "std for gaussian:  0.10\n",
      "a = 7.5143 +- 0.0028\n",
      "b = -0.08 +- 0.04\n",
      "(<ErrorView a=0.002762130661383447 b=0.041062026927875014>, <ValueView a=7.514321461536414 b=-0.07851100003729908>)\n"
     ]
    }
   ],
   "source": [
    "def fit(x,y):\n",
    "    cfit = cost.LeastSquares(x, y,1,  model=fit_funcT)\n",
    "    m = Minuit(cfit, a=1, b=1)\n",
    "    m.migrad() # finds minimum of least_squares function \n",
    "    fit_params = m.values   \n",
    "    a,b = fit_params['a'],fit_params['b']\n",
    "    yfit = fit_funcT(x,a,b) \n",
    "    \n",
    "    #residual histogram\n",
    "    count, bins = np.histogram(y-yfit, bins=int(np.sqrt(len(y))))\n",
    "    sy = np.sqrt(count)\n",
    "    gaussfit = cost.LeastSquares(bins[:-1], count, sy, model=gauss_pdf)\n",
    "    count = count[count>0]\n",
    "    m = Minuit(gaussfit, mu=0, sigma=1)\n",
    "    m.limits[\"sigma\"] = (0, None)  # Enforce sigma > 0\n",
    "    m.migrad()\n",
    "    sigma = m.values['sigma']\n",
    "    print( f\"std for gaussian:  {sigma:.2f}\")\n",
    "    \n",
    "    #Refit with new error on each meassurement\n",
    "    cfit = cost.LeastSquares(x, y,sigma,  model=fit_funcT)\n",
    "    m = Minuit(cfit, a=a, b=b)\n",
    "    m.migrad() # finds minimum of least_squares function\n",
    "    yfit = fit_funcT(x,*m.values)\n",
    "    a,b = m.values \n",
    "    ae,be = m.errors\n",
    "    print(f\"a = {a:.4f} +- {ae:.4f}\")\n",
    "    print(f\"b = {b:.2f} +- {be:.2f}\")\n",
    "    return m.errors, m.values\n",
    "print(fit(x,y))"
   ]
  },
  {
   "cell_type": "code",
   "execution_count": null,
   "metadata": {},
   "outputs": [
    {
     "name": "stdout",
     "output_type": "stream",
     "text": [
      "std for gaussian:  0.10\n",
      "a = 7.5143 +- 0.0028\n",
      "b = -0.08 +- 0.04\n"
     ]
    }
   ],
   "source": [
    "a = fit(x,y)\n"
   ]
  },
  {
   "cell_type": "code",
   "execution_count": 14,
   "metadata": {},
   "outputs": [
    {
     "name": "stdout",
     "output_type": "stream",
     "text": [
      "Measured angle through trig: 14.33 +- 0.07\n",
      "Weighted average: 14.32 +- 0.07\n"
     ]
    }
   ],
   "source": [
    "L1 = 90.2 \n",
    "errorL2 = 0.1 \n",
    "L2 = 22.1\n",
    "errorL2 =  0.1\n",
    "O,A = symbols('O A')\n",
    "\n",
    "\n",
    "GAngle1 = 14.00 #Ball Towards RIGET\n",
    "Gangle2 = 14.50 #Ball Away from RIGET\n",
    "AngleE = 0.5 #deg\n",
    "\n",
    "angle = np.tan(L2/L1) * 180/np.pi\n",
    "Angle = sp.tan(O/A) * 180/np.pi \n",
    "\n",
    "func = error_prop(Angle,[O,A],[0.1,0.1])\n",
    "\n",
    "Aerror = sp.lambdify([O,A],func)(O=L2,A=L1)\n",
    "\n",
    "print(f\"Measured angle through trig: {angle:.2f} +- {Aerror:.2f}\")\n",
    "\n",
    "\n",
    "sumerror = 1/Aerror**2 + 1/AngleE**2 + 1/AngleE**2\n",
    "sumW = angle/Aerror**2 + GAngle1/AngleE**2 + Gangle2/AngleE**2 \n",
    "angleW = sumW/sumerror\n",
    "\n",
    "print(f\"Weighted average: {angleW:.2f} +- {np.sqrt(1/sumerror):.2f}\")"
   ]
  },
  {
   "cell_type": "code",
   "execution_count": null,
   "metadata": {},
   "outputs": [],
   "source": []
  }
 ],
 "metadata": {
  "kernelspec": {
   "display_name": "Python 3",
   "language": "python",
   "name": "python3"
  },
  "language_info": {
   "codemirror_mode": {
    "name": "ipython",
    "version": 3
   },
   "file_extension": ".py",
   "mimetype": "text/x-python",
   "name": "python",
   "nbconvert_exporter": "python",
   "pygments_lexer": "ipython3",
   "version": "3.11.1"
  }
 },
 "nbformat": 4,
 "nbformat_minor": 2
}
